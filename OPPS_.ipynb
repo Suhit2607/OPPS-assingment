{
  "nbformat": 4,
  "nbformat_minor": 0,
  "metadata": {
    "colab": {
      "provenance": []
    },
    "kernelspec": {
      "name": "python3",
      "display_name": "Python 3"
    },
    "language_info": {
      "name": "python"
    }
  },
  "cells": [
    {
      "cell_type": "markdown",
      "source": [
        "OPPS Assignment"
      ],
      "metadata": {
        "id": "ROKkuYm8Bt60"
      }
    },
    {
      "cell_type": "markdown",
      "source": [
        "Theory Question"
      ],
      "metadata": {
        "id": "d4gX18qRBzQi"
      }
    },
    {
      "cell_type": "markdown",
      "source": [
        "1. What is Object-Oriented Programming (OOP)?\n",
        "\n",
        "   - Object-Oriented Programming (OOP) is a programming paradigm that organizes software design around objects rather than functions and logic. An object is a self-contained unit that consists of data (attributes) and behavior (methods). OOP focuses on creating reusable, modular, and scalable code by modeling real-world entities.\n",
        "\n",
        "2. What is a class in OOP?\n",
        "\n",
        "   - In Object-Oriented Programming (OOP), a class is a blueprint or template that defines the structure and behavior of objects. It specifies:\n",
        "\n",
        "   Attributes (data/properties) - Variables that hold the state of an object.\n",
        "\n",
        "   Methods (functions/behavior) - Actions that an object can perform.\n",
        "\n",
        "   An object is an instance of a class, created at runtime\n",
        "\n",
        "3.  What is an object in OOP\n",
        "\n",
        "   - In Object-Oriented Programming (OOP), an object is a runtime instance of a class that contains:\n",
        "\n",
        "   State (Data) → Stored in attributes (fields/properties).\n",
        "\n",
        "   Behavior (Actions) → Defined by methods (functions).\n",
        "\n",
        "   Objects are the real-world entities you interact with in a program.\n",
        "\n",
        "4. What is the difference between abstraction and encapsulation?\n",
        "\n",
        "   - Both abstraction and encapsulation are key OOP concepts, but they serve different purposes:\n",
        "\n",
        "   Shows only essential features while hiding background details.\n",
        "\n",
        "   Helps in designing systems by focusing on what an object does, not how it does it.\n",
        "   Combines data (attributes) and methods (functions) into a single unit (class).\n",
        "\n",
        "   Restricts direct access to data (e.g., using private variables).\n",
        "\n",
        "5. What are dunder methods in Python?\n",
        "\n",
        "   - Dunder methods (short for \"double underscore\") are special predefined methods in Python that start and end with __. They allow you to define how objects behave with built-in operations like +, ==, len(), and more.\n",
        "\n",
        "6. Explain the concept of inheritance in OOP?\n",
        "\n",
        "   - Inheritance is a fundamental OOP concept that allows a new class (child/subclass) to inherit properties and behaviors (methods & attributes) from an existing class (parent/superclass). This promotes code reusability and establishes a hierarchical relationship between classes.\n",
        "\n",
        "7. What is polymorphism in OOP?\n",
        "\n",
        "  - Polymorphism (from Greek \"poly\" = many, \"morph\" = forms) is an OOP concept that allows objects of different classes to be treated as objects of a common superclass. It enables one interface to represent different underlying forms (data types).\n",
        "\n",
        "8. How is encapsulation achieved in Python?\n",
        "\n",
        "   - Encapsulation is an OOP concept that bundles data (attributes) and methods (functions) into a single unit (class) while restricting direct access to some components. It helps in:\n",
        "   Data protection (preventing accidental modification).\n",
        "   Controlled access (via getters/setters).\n",
        "   Hiding implementation details\n",
        "\n",
        "9. What is a constructor in Python?\n",
        "\n",
        "   - A constructor is a special method in a Python class that is automatically called when an object is created. It initializes the object's state (attributes).\n",
        "\n",
        "   Default Constructor: If not defined, Python provides an empty default constructor.\n",
        "\n",
        "   __init__ Method: The primary constructor in Python (not a true constructor but an initializer).\n",
        "\n",
        "   __new__ Method: The actual constructor (rarely overridden).\n",
        "\n",
        "10. What are class and static methods in Python?\n",
        "\n",
        "   - Static Method (@staticmethod)\n",
        "  Not bound to class or instance → No self or cls parameter.\n",
        "\n",
        "  Cannot modify class/instance state (acts like a standalone function).\n",
        "\n",
        "  Used for utility functions related to the class.\n",
        "\n",
        "  Class Method (@classmethod)\n",
        "  Bound to the class (not the instance) → Takes cls (class reference) as the first parameter.\n",
        "\n",
        "  Can modify class-level attributes.\n",
        "\n",
        "  Used for factory methods (alternative constructors).\n",
        "\n",
        "11. What is method overloading in Python?\n",
        "\n",
        "   - Method overloading is a feature in object-oriented programming where multiple methods can have the same name but different parameters (type, number, or order). However, Python does not support traditional method overloading like Java or C++. Instead, Python uses flexible argument handling to simulate overloading\n",
        "\n",
        "12. What is method overriding in OOP?\n",
        "\n",
        "   - Method overriding is a key concept in Object-Oriented Programming (OOP) where a subclass provides a new implementation for a method already defined in its superclass. This allows the subclass to modify or extend the behavior of inherited methods.\n",
        "\n",
        "13. What is a property decorator in Python?\n",
        "\n",
        "   - The @property decorator in Python allows you to define getter, setter, and deleter methods for class attributes, enabling controlled access to instance variables. It helps:\n",
        "   Encapsulate attribute access.\n",
        "   Add validation/logic when getting/setting values.\n",
        "   Maintain backward compatibility if attribute access changes later.\n",
        "\n",
        "14. Why is polymorphism important in OOP?\n",
        "\n",
        "   - Polymorphism (Greek for \"many forms\") is a core principle of Object-Oriented Programming (OOP) that allows objects of different classes to be treated as objects of a common superclass. It simplifies code, enhances flexibility, and promotes maintainability.\n",
        "\n",
        "15. What is an abstract class in Python?\n",
        "\n",
        "   - An abstract class in Python is a class that cannot be instantiated directly and serves as a blueprint for other classes. It enforces method definitions in child classes, ensuring consistent structure across subclasses.\n",
        "\n",
        "16. What are the advantages of OOP?\n",
        "\n",
        "   - Object-Oriented Programming (OOP) is a programming paradigm that organizes code into objects (instances of classes) rather than functions and logic. Here are its key advantages\n",
        "\n",
        "   Modularity & Organized Code\n",
        "   Reusability (DRY Principle)\n",
        "   Encapsulation (Data Protection)\n",
        "   Polymorphism (Flexibility)\n",
        "   Easier Maintenance & Scalability\n",
        "   Real-World Modeling\n",
        "   \n",
        "17. What is the difference between a class variable and an instance variable?\n",
        "\n",
        "   - In Python (and OOP in general), class variables and instance variables serve different purposes and have distinct scopes\n",
        "\n",
        "   Class Variables\n",
        "   Shared across all instances of the class.\n",
        "\n",
        "   Defined inside the class but outside methods.\n",
        "\n",
        "  Used for attributes common to all objects\n",
        "\n",
        "  Instance Variables\n",
        "  Unique to each instance (object) of the class.\n",
        "\n",
        "  Defined inside __init__ or methods using self.\n",
        "\n",
        "  Used for object-specific attributes\n",
        "\n",
        "18. What is multiple inheritance in Python?\n",
        "\n",
        "   - Multiple inheritance allows a class to inherit attributes and methods from more than one parent class. Python fully supports this, unlike some other languages\n",
        "\n",
        "19. Explain the purpose of ‘’__str__’ and ‘__repr__’ ‘ methods in Python?\n",
        "\n",
        "   - __str__ Method\n",
        "     Goal: Provide a user-friendly description of the object.\n",
        "\n",
        "     Default Behavior: Falls back to __repr__ if not defined.\n",
        "\n",
        "20. What is the significance of the ‘super()’ function in Python?\n",
        "\n",
        "   - The super() function in Python is used to call methods from a parent (superclass) in a child (subclass), ensuring proper method resolution order (MRO) and avoiding hardcoding parent class names. It plays a crucial role in inheritance, especially in:\n",
        "   Initializing parent classes (__init__).\n",
        "   Extending inherited methods (adding logic without rewriting).\n",
        "   Multiple inheritance (resolving method calls correctly)\n",
        "\n",
        "21. What is the significance of the __del__ method in Python?\n",
        "\n",
        "   - The __del__ method is a destructor in Python that gets called when an object is about to be destroyed (i.e., when its reference count drops to zero or during garbage collection). However, its behavior is unpredictable in many cases, so it should be used cautiously\n",
        "\n",
        "22. What is the difference between @staticmethod and @classmethod in Python?\n",
        "\n",
        "   - @classmethod\n",
        "     Bound to the class (not the instance).\n",
        "\n",
        "     Takes cls (class reference) as the first argument.\n",
        "\n",
        "     Used for:\n",
        "\n",
        "     Factory methods (alternative constructors).\n",
        "\n",
        "     Modifying class-level attributes.\n",
        "\n",
        "23. How does polymorphism work in Python with inheritance?\n",
        "\n",
        "   - Polymorphism in Python (via inheritance) allows objects of different subclasses to be treated as objects of a common superclass, enabling:\n",
        "\n",
        "     Method overriding: Subclasses redefine inherited methods.\n",
        "\n",
        "     Uniform interfaces: Code works with superclass objects but executes subclass logic.\n",
        "\n",
        "24. What is method chaining in Python OOP?\n",
        "\n",
        "   - Method chaining is a technique where multiple methods are called on an object in a single line, with each method returning the object itself (self) to enable further calls. This leads to fluent, readable code that resembles a pipeline of operations.\n",
        "\n",
        "25. What is the purpose of the __call__ method in Python?\n",
        "\n",
        "   - The __call__ method in Python allows an object to be called like a function. When defined in a class, instances of that class become callable objects, enabling them to mimic function behavior while maintaining state (attributes)."
      ],
      "metadata": {
        "id": "A05EQuh4B2MK"
      }
    },
    {
      "cell_type": "markdown",
      "source": [
        "PRACTICAL QUESTIONS"
      ],
      "metadata": {
        "id": "od0srfxxM1dy"
      }
    },
    {
      "cell_type": "code",
      "execution_count": 1,
      "metadata": {
        "colab": {
          "base_uri": "https://localhost:8080/"
        },
        "id": "wis1LG5QBjkK",
        "outputId": "bd073c64-f8a8-4e5f-a634-09ed15c25d1c"
      },
      "outputs": [
        {
          "output_type": "stream",
          "name": "stdout",
          "text": [
            "This animal makes a sound\n",
            "Bark!\n"
          ]
        }
      ],
      "source": [
        "class Animal:\n",
        "    def speak(self):\n",
        "        print(\"This animal makes a sound\")\n",
        "\n",
        "class Dog(Animal):\n",
        "    def speak(self):  # Overrides Animal.speak()\n",
        "        print(\"Bark!\")\n",
        "\n",
        "# Usage\n",
        "animal = Animal()\n",
        "animal.speak()  # Output: \"This animal makes a sound\"\n",
        "\n",
        "dog = Dog()\n",
        "dog.speak()     # Output: \"Bark!\""
      ]
    },
    {
      "cell_type": "code",
      "source": [
        "from abc import ABC, abstractmethod\n",
        "\n",
        "# Abstract Base Class (ABC)\n",
        "class Shape(ABC):\n",
        "    @abstractmethod\n",
        "    def area(self):\n",
        "        pass  # Must be implemented by child classes\n",
        "\n",
        "# Concrete Subclass: Circle\n",
        "class Circle(Shape):\n",
        "    def __init__(self, radius):\n",
        "        self.radius = radius\n",
        "\n",
        "    def area(self):\n",
        "        return 3.14159 * self.radius ** 2  # πr²\n",
        "\n",
        "# Concrete Subclass: Rectangle\n",
        "class Rectangle(Shape):\n",
        "    def __init__(self, length, width):\n",
        "        self.length = length\n",
        "        self.width = width\n",
        "\n",
        "    def area(self):\n",
        "        return self.length * self.width  # l × w\n",
        "\n",
        "# Usage\n",
        "circle = Circle(5)\n",
        "rectangle = Rectangle(4, 6)\n",
        "\n",
        "print(f\"Area of Circle (radius=5): {circle.area():.2f}\")      # Output: 78.54\n",
        "print(f\"Area of Rectangle (4x6): {rectangle.area()}\")         # Output: 24"
      ],
      "metadata": {
        "colab": {
          "base_uri": "https://localhost:8080/"
        },
        "id": "hpYfLlubNNbo",
        "outputId": "bc9271a7-b29f-4f9f-b936-475e0d9a0ac4"
      },
      "execution_count": 2,
      "outputs": [
        {
          "output_type": "stream",
          "name": "stdout",
          "text": [
            "Area of Circle (radius=5): 78.54\n",
            "Area of Rectangle (4x6): 24\n"
          ]
        }
      ]
    },
    {
      "cell_type": "code",
      "source": [
        "class Vehicle:\n",
        "    def __init__(self, type):\n",
        "        self.type = type  # e.g., \"land\", \"water\", \"air\"\n",
        "\n",
        "    def display_info(self):\n",
        "        print(f\"Type: {self.type}\")\n",
        "\n",
        "class Car(Vehicle):\n",
        "    def __init__(self, type, fuel_type):\n",
        "        super().__init__(type)  # Initialize Vehicle\n",
        "        self.fuel_type = fuel_type  # e.g., \"petrol\", \"diesel\"\n",
        "\n",
        "    def display_info(self):\n",
        "        super().display_info()  # Call Vehicle's display_info()\n",
        "        print(f\"Fuel Type: {self.fuel_type}\")\n",
        "\n",
        "class ElectricCar(Car):\n",
        "    def __init__(self, type, fuel_type, battery_capacity):\n",
        "        super().__init__(type, fuel_type)  # Initialize Car\n",
        "        self.battery_capacity = battery_capacity  # e.g., \"100 kWh\"\n",
        "\n",
        "    def display_info(self):\n",
        "        super().display_info()  # Call Car's display_info()\n",
        "        print(f\"Battery Capacity: {self.battery_capacity}\")\n",
        "\n",
        "# Usage\n",
        "electric_car = ElectricCar(\"land\", \"electric\", \"75 kWh\")\n",
        "electric_car.display_info()"
      ],
      "metadata": {
        "colab": {
          "base_uri": "https://localhost:8080/"
        },
        "id": "lsLh_0AwNWLP",
        "outputId": "5910fa06-f241-466c-ae05-4035355805c2"
      },
      "execution_count": 3,
      "outputs": [
        {
          "output_type": "stream",
          "name": "stdout",
          "text": [
            "Type: land\n",
            "Fuel Type: electric\n",
            "Battery Capacity: 75 kWh\n"
          ]
        }
      ]
    },
    {
      "cell_type": "code",
      "source": [
        "class Bird:\n",
        "    def fly(self):\n",
        "        print(\"This bird can fly!\")\n",
        "\n",
        "class Sparrow(Bird):\n",
        "    def fly(self):  # Overrides Bird.fly()\n",
        "        print(\"Sparrow flies swiftly!\")\n",
        "\n",
        "class Penguin(Bird):\n",
        "    def fly(self):  # Overrides Bird.fly()\n",
        "        print(\"Penguins can't fly, but they swim!\")  # Penguins are special!\n",
        "\n",
        "# Polymorphic function\n",
        "def let_bird_fly(bird_obj):\n",
        "    bird_obj.fly()  # Calls the appropriate fly() based on the object's type\n",
        "\n",
        "# Usage\n",
        "generic_bird = Bird()\n",
        "sparrow = Sparrow()\n",
        "penguin = Penguin()\n",
        "\n",
        "let_bird_fly(generic_bird)  # Output: \"This bird can fly!\"\n",
        "let_bird_fly(sparrow)       # Output: \"Sparrow flies swiftly!\"\n",
        "let_bird_fly(penguin)       # Output: \"Penguins can't fly, but they swim!\"\n"
      ],
      "metadata": {
        "colab": {
          "base_uri": "https://localhost:8080/"
        },
        "id": "brfhxRVuN5Zp",
        "outputId": "47d8640e-f2fc-4ef2-ec4f-0a50c3f0e523"
      },
      "execution_count": 4,
      "outputs": [
        {
          "output_type": "stream",
          "name": "stdout",
          "text": [
            "This bird can fly!\n",
            "Sparrow flies swiftly!\n",
            "Penguins can't fly, but they swim!\n"
          ]
        }
      ]
    },
    {
      "cell_type": "code",
      "source": [
        "class BankAccount:\n",
        "    def __init__(self, initial_balance=0):\n",
        "        self.__balance = initial_balance  # Private attribute\n",
        "\n",
        "    def deposit(self, amount):\n",
        "        if amount > 0:\n",
        "            self.__balance += amount\n",
        "            print(f\"Deposited ${amount}. New balance: ${self.__balance}\")\n",
        "        else:\n",
        "            print(\"Deposit amount must be positive!\")\n",
        "\n",
        "    def withdraw(self, amount):\n",
        "        if 0 < amount <= self.__balance:\n",
        "            self.__balance -= amount\n",
        "            print(f\"Withdrew ${amount}. Remaining balance: ${self.__balance}\")\n",
        "        else:\n",
        "            print(\"Invalid withdrawal amount or insufficient funds!\")\n",
        "\n",
        "    def check_balance(self):\n",
        "        return self.__balance\n",
        "\n",
        "# Usage\n",
        "account = BankAccount(100)  # Starting balance: $100\n",
        "\n",
        "account.deposit(50)    # Output: \"Deposited $50. New balance: $150\"\n",
        "account.withdraw(30)    # Output: \"Withdrew $30. Remaining balance: $120\"\n",
        "account.withdraw(200)   # Output: \"Invalid withdrawal amount or insufficient funds!\"\n",
        "\n",
        "print(f\"Current balance: ${account.check_balance()}\")  # Output: \"Current balance: $120\"\n",
        "\n",
        "# Attempting to access __balance directly (will fail)\n",
        "# print(account.__balance)  #  Error: AttributeError"
      ],
      "metadata": {
        "colab": {
          "base_uri": "https://localhost:8080/"
        },
        "id": "G4SsA-1zO1-z",
        "outputId": "62f4c5c1-58e3-4502-f0ea-8788783dc2a9"
      },
      "execution_count": 7,
      "outputs": [
        {
          "output_type": "stream",
          "name": "stdout",
          "text": [
            "Deposited $50. New balance: $150\n",
            "Withdrew $30. Remaining balance: $120\n",
            "Invalid withdrawal amount or insufficient funds!\n",
            "Current balance: $120\n"
          ]
        }
      ]
    },
    {
      "cell_type": "code",
      "source": [
        "class Instrument:\n",
        "    def play(self):\n",
        "        print(\"This instrument makes a sound\")\n",
        "\n",
        "class Guitar(Instrument):\n",
        "    def play(self):  # Overrides Instrument.play()\n",
        "        print(\" Strumming guitar strings!\")\n",
        "\n",
        "class Piano(Instrument):\n",
        "    def play(self):  # Overrides Instrument.play()\n",
        "        print(\" Pressing piano keys!\")\n",
        "\n",
        "# Polymorphic function\n",
        "def play_instrument(instrument_obj):\n",
        "    instrument_obj.play()  # Calls the appropriate play() at runtime\n",
        "\n",
        "# Usage\n",
        "generic_instrument = Instrument()\n",
        "guitar = Guitar()\n",
        "piano = Piano()\n",
        "\n",
        "play_instrument(generic_instrument)  # Output: \"This instrument makes a sound\"\n",
        "play_instrument(guitar)              # Output: \"🎸 Strumming guitar strings!\"\n",
        "play_instrument(piano)               # Output: \"🎹 Pressing piano keys!\""
      ],
      "metadata": {
        "colab": {
          "base_uri": "https://localhost:8080/"
        },
        "id": "bhPyhpFmPELc",
        "outputId": "66fdf0f2-96ca-4ea4-9b82-1caed90548a8"
      },
      "execution_count": 8,
      "outputs": [
        {
          "output_type": "stream",
          "name": "stdout",
          "text": [
            "This instrument makes a sound\n",
            " Strumming guitar strings!\n",
            " Pressing piano keys!\n"
          ]
        }
      ]
    },
    {
      "cell_type": "code",
      "source": [
        "class MathOperations:\n",
        "    # Class Method (takes 'cls' as first parameter)\n",
        "    @classmethod\n",
        "    def add_numbers(cls, a, b):\n",
        "        return a + b\n",
        "\n",
        "    # Static Method (no 'self' or 'cls' parameter)\n",
        "    @staticmethod\n",
        "    def subtract_numbers(a, b):\n",
        "        return a - b\n",
        "\n",
        "# Using the class method (no instance needed)\n",
        "sum_result = MathOperations.add_numbers(10, 5)\n",
        "print(f\"10 + 5 = {sum_result}\")  # Output: 10 + 5 = 15\n",
        "\n",
        "# Using the static method (no instance needed)\n",
        "difference_result = MathOperations.subtract_numbers(10, 5)\n",
        "print(f\"10 - 5 = {difference_result}\")  # Output: 10 - 5 = 5"
      ],
      "metadata": {
        "colab": {
          "base_uri": "https://localhost:8080/"
        },
        "id": "DcB-0saePSlb",
        "outputId": "4cf86005-b6ae-4e75-b2e2-6b3b3a540ea6"
      },
      "execution_count": 9,
      "outputs": [
        {
          "output_type": "stream",
          "name": "stdout",
          "text": [
            "10 + 5 = 15\n",
            "10 - 5 = 5\n"
          ]
        }
      ]
    },
    {
      "cell_type": "code",
      "source": [
        "class Person:\n",
        "    # Class variable to keep track of count\n",
        "    _total_persons = 0\n",
        "\n",
        "    def __init__(self, name):\n",
        "        self.name = name\n",
        "        Person._total_persons += 1  # Increment count when new instance is created\n",
        "\n",
        "    @classmethod\n",
        "    def get_total_persons(cls):\n",
        "        return cls._total_persons\n",
        "\n",
        "# Usage\n",
        "p1 = Person(\"Alice\")\n",
        "p2 = Person(\"Bob\")\n",
        "p3 = Person(\"Charlie\")\n",
        "\n",
        "print(f\"Total persons created: {Person.get_total_persons()}\")  # Output: 3"
      ],
      "metadata": {
        "colab": {
          "base_uri": "https://localhost:8080/"
        },
        "id": "yuD08MWYPo0p",
        "outputId": "93a48bf9-1174-43df-a6bd-a9993d23c745"
      },
      "execution_count": 10,
      "outputs": [
        {
          "output_type": "stream",
          "name": "stdout",
          "text": [
            "Total persons created: 3\n"
          ]
        }
      ]
    },
    {
      "cell_type": "code",
      "source": [
        "class Fraction:\n",
        "    def __init__(self, numerator, denominator):\n",
        "        self.numerator = numerator\n",
        "        self.denominator = denominator\n",
        "\n",
        "    def __str__(self):\n",
        "        return f\"{self.numerator}/{self.denominator}\"\n",
        "\n",
        "# Example usage\n",
        "half = Fraction(1, 2)\n",
        "three_quarters = Fraction(3, 4)\n",
        "\n",
        "print(half)           # Output: 1/2\n",
        "print(three_quarters) # Output: 3/4"
      ],
      "metadata": {
        "colab": {
          "base_uri": "https://localhost:8080/"
        },
        "id": "RmTXi9OXPzhu",
        "outputId": "3af9e1bb-edee-46f5-c7d5-42add9bd0ffe"
      },
      "execution_count": 11,
      "outputs": [
        {
          "output_type": "stream",
          "name": "stdout",
          "text": [
            "1/2\n",
            "3/4\n"
          ]
        }
      ]
    },
    {
      "cell_type": "code",
      "source": [
        "class Vector:\n",
        "    def __init__(self, x, y):\n",
        "        self.x = x\n",
        "        self.y = y\n",
        "\n",
        "    # Override the + operator (v1 + v2)\n",
        "    def __add__(self, other):\n",
        "        return Vector(self.x + other.x, self.y + other.y)\n",
        "\n",
        "    # String representation for printing\n",
        "    def __str__(self):\n",
        "        return f\"Vector({self.x}, {self.y})\"\n",
        "\n",
        "# Usage\n",
        "v1 = Vector(2, 3)\n",
        "v2 = Vector(5, 7)\n",
        "v3 = v1 + v2  # Calls v1.__add__(v2)\n",
        "\n",
        "print(v1)    # Output: Vector(2, 3)\n",
        "print(v2)    # Output: Vector(5, 7)\n",
        "print(v3)    # Output: Vector(7, 10)"
      ],
      "metadata": {
        "colab": {
          "base_uri": "https://localhost:8080/"
        },
        "id": "kFMyhtyxQGtS",
        "outputId": "46101e7a-34e6-4870-9860-3d1950b2f0d5"
      },
      "execution_count": 12,
      "outputs": [
        {
          "output_type": "stream",
          "name": "stdout",
          "text": [
            "Vector(2, 3)\n",
            "Vector(5, 7)\n",
            "Vector(7, 10)\n"
          ]
        }
      ]
    },
    {
      "cell_type": "code",
      "source": [
        "class Person:\n",
        "    def __init__(self, name, age):\n",
        "        self.name = name\n",
        "        self.age = age\n",
        "\n",
        "    def greet(self):\n",
        "        print(f\"Hello, my name is {self.name} and I am {self.age} years old.\")\n",
        "\n",
        "# Example usage\n",
        "person1 = Person(\"Alice\", 30)\n",
        "person1.greet()  # Output: Hello, my name is Alice and I am 30 years old.\n",
        "\n",
        "person2 = Person(\"Bob\", 25)\n",
        "person2.greet()  # Output: Hello, my name is Bob and I am 25 years old."
      ],
      "metadata": {
        "colab": {
          "base_uri": "https://localhost:8080/"
        },
        "id": "uRfXMKukQRwT",
        "outputId": "c22a1e70-d45b-4ec7-c9cc-f10b375d3c30"
      },
      "execution_count": 13,
      "outputs": [
        {
          "output_type": "stream",
          "name": "stdout",
          "text": [
            "Hello, my name is Alice and I am 30 years old.\n",
            "Hello, my name is Bob and I am 25 years old.\n"
          ]
        }
      ]
    },
    {
      "cell_type": "code",
      "source": [
        "class Student:\n",
        "    def __init__(self, name, grades=None):\n",
        "        self.name = name\n",
        "        self.grades = grades if grades is not None else []\n",
        "\n",
        "    def average_grade(self):\n",
        "        if not self.grades:  # Handle empty grades list\n",
        "            return 0.0\n",
        "        return sum(self.grades) / len(self.grades)\n",
        "\n",
        "# Example usage\n",
        "student1 = Student(\"Alice\", [85, 90, 78, 92])\n",
        "print(f\"{student1.name}'s average grade: {student1.average_grade():.2f}\")\n",
        "# Output: Alice's average grade: 86.25\n",
        "\n",
        "student2 = Student(\"Bob\")  # No grades provided\n",
        "print(f\"{student2.name}'s average grade: {student2.average_grade():.2f}\")\n",
        "# Output: Bob's average grade: 0.00"
      ],
      "metadata": {
        "colab": {
          "base_uri": "https://localhost:8080/"
        },
        "id": "IKI-TxvUQdXZ",
        "outputId": "721ba35e-4715-4f64-f359-ee8b5b65124f"
      },
      "execution_count": 14,
      "outputs": [
        {
          "output_type": "stream",
          "name": "stdout",
          "text": [
            "Alice's average grade: 86.25\n",
            "Bob's average grade: 0.00\n"
          ]
        }
      ]
    },
    {
      "cell_type": "code",
      "source": [
        "class Rectangle:\n",
        "    def __init__(self, length=0, width=0):\n",
        "        self.length = length\n",
        "        self.width = width\n",
        "\n",
        "    def set_dimensions(self, length, width):\n",
        "        self.length = length\n",
        "        self.width = width\n",
        "\n",
        "    def area(self):\n",
        "        return self.length * self.width\n",
        "\n",
        "# Example usage\n",
        "rect = Rectangle()  # Create with default dimensions (0, 0)\n",
        "rect.set_dimensions(5, 3)  # Set dimensions to 5x3\n",
        "\n",
        "print(f\"Rectangle area: {rect.area()}\")  # Output: Rectangle area: 15\n",
        "\n",
        "# Alternative initialization\n",
        "rect2 = Rectangle(4, 7)  # Create with dimensions 4x7\n",
        "print(f\"Second rectangle area: {rect2.area()}\")  # Output: Second rectangle area: 28"
      ],
      "metadata": {
        "colab": {
          "base_uri": "https://localhost:8080/"
        },
        "id": "NSrcEq-FQplv",
        "outputId": "daf72477-5bc3-4225-a5a4-13a9c1c2d9f3"
      },
      "execution_count": 15,
      "outputs": [
        {
          "output_type": "stream",
          "name": "stdout",
          "text": [
            "Rectangle area: 15\n",
            "Second rectangle area: 28\n"
          ]
        }
      ]
    },
    {
      "cell_type": "code",
      "source": [
        "class Employee:\n",
        "    def __init__(self, name, hourly_rate):\n",
        "        self.name = name\n",
        "        self.hourly_rate = hourly_rate\n",
        "\n",
        "    def calculate_salary(self, hours_worked):\n",
        "        return self.hourly_rate * hours_worked\n",
        "\n",
        "class Manager(Employee):\n",
        "    def __init__(self, name, hourly_rate, bonus):\n",
        "        super().__init__(name, hourly_rate)\n",
        "        self.bonus = bonus\n",
        "\n",
        "    def calculate_salary(self, hours_worked):\n",
        "        base_salary = super().calculate_salary(hours_worked)\n",
        "        return base_salary + self.bonus\n",
        "\n",
        "# Example usage\n",
        "emp = Employee(\"John Doe\", 20)\n",
        "print(f\"{emp.name}'s salary: ${emp.calculate_salary(40):.2f}\")  # $800.00\n",
        "\n",
        "mgr = Manager(\"Jane Smith\", 30, 1000)\n",
        "print(f\"{mgr.name}'s salary: ${mgr.calculate_salary(40):.2f}\")  # $2200.00"
      ],
      "metadata": {
        "colab": {
          "base_uri": "https://localhost:8080/"
        },
        "id": "_714J5DsQ1U6",
        "outputId": "f0ca8403-c9b2-4540-8497-e83461e90966"
      },
      "execution_count": 16,
      "outputs": [
        {
          "output_type": "stream",
          "name": "stdout",
          "text": [
            "John Doe's salary: $800.00\n",
            "Jane Smith's salary: $2200.00\n"
          ]
        }
      ]
    },
    {
      "cell_type": "code",
      "source": [
        "class Product:\n",
        "    def __init__(self, name, price, quantity):\n",
        "        self.name = name\n",
        "        self.price = price\n",
        "        self.quantity = quantity\n",
        "\n",
        "    def total_price(self):\n",
        "        return self.price * self.quantity\n",
        "\n",
        "# Example usage\n",
        "product1 = Product(\"Laptop\", 999.99, 2)\n",
        "print(f\"Total price for {product1.name}: ${product1.total_price():.2f}\")\n",
        "# Output: Total price for Laptop: $1999.98\n",
        "\n",
        "product2 = Product(\"Mouse\", 19.99, 5)\n",
        "print(f\"Total price for {product2.name}: ${product2.total_price():.2f}\")\n",
        "# Output: Total price for Mouse: $99.95"
      ],
      "metadata": {
        "colab": {
          "base_uri": "https://localhost:8080/"
        },
        "id": "965P26gJQ_mi",
        "outputId": "fa7a138e-4101-4860-a318-720917deb678"
      },
      "execution_count": 17,
      "outputs": [
        {
          "output_type": "stream",
          "name": "stdout",
          "text": [
            "Total price for Laptop: $1999.98\n",
            "Total price for Mouse: $99.95\n"
          ]
        }
      ]
    },
    {
      "cell_type": "code",
      "source": [
        "from abc import ABC, abstractmethod\n",
        "\n",
        "class Animal(ABC):  # Abstract base class\n",
        "    @abstractmethod\n",
        "    def sound(self):\n",
        "        pass\n",
        "\n",
        "class Cow(Animal):\n",
        "    def sound(self):\n",
        "        return \"Moo!\"\n",
        "\n",
        "class Sheep(Animal):\n",
        "    def sound(self):\n",
        "        return \"Baa!\"\n",
        "\n",
        "# Example usage\n",
        "cow = Cow()\n",
        "sheep = Sheep()\n",
        "\n",
        "print(f\"Cow says: {cow.sound()}\")    # Output: Cow says: Moo!\n",
        "print(f\"Sheep says: {sheep.sound()}\") # Output: Sheep says: Baa!"
      ],
      "metadata": {
        "colab": {
          "base_uri": "https://localhost:8080/"
        },
        "id": "Flwj36svRKlB",
        "outputId": "38b72fb2-f0f1-47c5-cc14-466ff9fe9721"
      },
      "execution_count": 18,
      "outputs": [
        {
          "output_type": "stream",
          "name": "stdout",
          "text": [
            "Cow says: Moo!\n",
            "Sheep says: Baa!\n"
          ]
        }
      ]
    },
    {
      "cell_type": "code",
      "source": [
        "class Book:\n",
        "    def __init__(self, title, author, year_published):\n",
        "        self.title = title\n",
        "        self.author = author\n",
        "        self.year_published = year_published\n",
        "\n",
        "    def get_book_info(self):\n",
        "        return f'\"{self.title}\" by {self.author} ({self.year_published})'\n",
        "\n",
        "# Example usage\n",
        "book1 = Book(\"To Kill a Mockingbird\", \"Harper Lee\", 1960)\n",
        "print(book1.get_book_info())\n",
        "# Output: \"To Kill a Mockingbird\" by Harper Lee (1960)\n",
        "\n",
        "book2 = Book(\"1984\", \"George Orwell\", 1949)\n",
        "print(book2.get_book_info())"
      ],
      "metadata": {
        "colab": {
          "base_uri": "https://localhost:8080/"
        },
        "id": "P4xeMl70RUmD",
        "outputId": "038f3a2b-fc3f-4106-8562-0d0c1cc2c020"
      },
      "execution_count": 19,
      "outputs": [
        {
          "output_type": "stream",
          "name": "stdout",
          "text": [
            "\"To Kill a Mockingbird\" by Harper Lee (1960)\n",
            "\"1984\" by George Orwell (1949)\n"
          ]
        }
      ]
    },
    {
      "cell_type": "code",
      "source": [
        "class House:\n",
        "    def __init__(self, address, price):\n",
        "        self.address = address\n",
        "        self.price = price\n",
        "\n",
        "    def display_info(self):\n",
        "        return f\"Address: {self.address}, Price: ${self.price:,}\"\n",
        "\n",
        "class Mansion(House):\n",
        "    def __init__(self, address, price, number_of_rooms):\n",
        "        super().__init__(address, price)  # Initialize House attributes\n",
        "        self.number_of_rooms = number_of_rooms\n",
        "\n",
        "    def display_info(self):\n",
        "        base_info = super().display_info()\n",
        "        return f\"{base_info}, Rooms: {self.number_of_rooms}\"\n",
        "\n",
        "# Example usage\n",
        "house = House(\"123 Main St\", 350000)\n",
        "print(house.display_info())  # Output: Address: 123 Main St, Price: $350,000\n",
        "\n",
        "mansion = Mansion(\"1 Beverly Hills\", 25000000, 15)\n",
        "print(mansion.display_info())"
      ],
      "metadata": {
        "colab": {
          "base_uri": "https://localhost:8080/"
        },
        "id": "lXvz6QAJReIp",
        "outputId": "d624d5f0-1008-4d30-dbaf-c0bd71007540"
      },
      "execution_count": 20,
      "outputs": [
        {
          "output_type": "stream",
          "name": "stdout",
          "text": [
            "Address: 123 Main St, Price: $350,000\n",
            "Address: 1 Beverly Hills, Price: $25,000,000, Rooms: 15\n"
          ]
        }
      ]
    },
    {
      "cell_type": "code",
      "source": [],
      "metadata": {
        "id": "oOrL_5l9Rp7g"
      },
      "execution_count": null,
      "outputs": []
    }
  ]
}